{
 "cells": [
  {
   "cell_type": "code",
   "execution_count": 1,
   "metadata": {},
   "outputs": [],
   "source": [
    "%load_ext autoreload\n",
    "%autoreload 2"
   ]
  },
  {
   "cell_type": "code",
   "execution_count": 2,
   "metadata": {},
   "outputs": [
    {
     "name": "stderr",
     "output_type": "stream",
     "text": [
      "E:\\LangOn\\pyASBC\\notebooks\\..\\src\\pyASBC\\asbc.py:6: TqdmExperimentalWarning: Using `tqdm.autonotebook.tqdm` in notebook mode. Use `tqdm.tqdm` instead to force console mode (e.g. in jupyter console)\n",
      "  from tqdm.autonotebook import tqdm\n"
     ]
    }
   ],
   "source": [
    "from import_pyASBC import pyASBC"
   ]
  },
  {
   "cell_type": "code",
   "execution_count": 11,
   "metadata": {},
   "outputs": [],
   "source": [
    "from pyASBC import Asbc5Corpus\n",
    "from itertools import islice"
   ]
  },
  {
   "cell_type": "code",
   "execution_count": 24,
   "metadata": {},
   "outputs": [],
   "source": [
    "asbc = Asbc5Corpus(\"../ASBC_test\")"
   ]
  },
  {
   "cell_type": "code",
   "execution_count": 25,
   "metadata": {},
   "outputs": [],
   "source": [
    "f0 = next(iter(asbc.iter_files()))"
   ]
  },
  {
   "cell_type": "code",
   "execution_count": 26,
   "metadata": {},
   "outputs": [],
   "source": [
    "a0 = next(iter(asbc.iter_articles()))"
   ]
  },
  {
   "cell_type": "code",
   "execution_count": 35,
   "metadata": {},
   "outputs": [
    {
     "data": {
      "text/plain": [
       "16991"
      ]
     },
     "execution_count": 35,
     "metadata": {},
     "output_type": "execute_result"
    }
   ],
   "source": [
    "2402+5008+4581+5000"
   ]
  },
  {
   "cell_type": "code",
   "execution_count": 27,
   "metadata": {},
   "outputs": [],
   "source": [
    "from itertools import islice"
   ]
  },
  {
   "cell_type": "code",
   "execution_count": 34,
   "metadata": {},
   "outputs": [
    {
     "name": "stdout",
     "output_type": "stream",
     "text": [
      "..\\ASBC_test\\ASBC_A\\asbc_a_001.xml\n",
      "..\\ASBC_test\\ASBC_A\\asbc_a_002.xml\n",
      "..\\ASBC_test\\ASBC_B\\asbc_b_007.xml\n",
      "..\\ASBC_test\\ASBC_B\\asbc_b_008.xml\n"
     ]
    },
    {
     "data": {
      "text/plain": [
       "16991"
      ]
     },
     "execution_count": 34,
     "metadata": {},
     "output_type": "execute_result"
    }
   ],
   "source": [
    "len(list(asbc.iter_sentences()))"
   ]
  },
  {
   "cell_type": "code",
   "execution_count": 37,
   "metadata": {},
   "outputs": [
    {
     "data": {
      "text/plain": [
       "140342"
      ]
     },
     "execution_count": 37,
     "metadata": {},
     "output_type": "execute_result"
    }
   ],
   "source": [
    "11248*2+20000*2+18948*2+19975*2"
   ]
  },
  {
   "cell_type": "code",
   "execution_count": 41,
   "metadata": {},
   "outputs": [
    {
     "data": {
      "text/plain": [
       "128070"
      ]
     },
     "execution_count": 41,
     "metadata": {},
     "output_type": "execute_result"
    }
   ],
   "source": [
    "len(list(asbc.iter_words()))"
   ]
  },
  {
   "cell_type": "code",
   "execution_count": 40,
   "metadata": {},
   "outputs": [
    {
     "name": "stdout",
     "output_type": "stream",
     "text": [
      "..\\ASBC_test\\ASBC_A\\asbc_a_001.xml\n"
     ]
    },
    {
     "data": {
      "text/plain": [
       "['時',\n",
       " '間',\n",
       " '三',\n",
       " '月',\n",
       " '十',\n",
       " '日',\n",
       " '星',\n",
       " '期',\n",
       " '四',\n",
       " '上',\n",
       " '午',\n",
       " '十',\n",
       " '時',\n",
       " '地',\n",
       " '點',\n",
       " '學',\n",
       " '術',\n",
       " '活',\n",
       " '動',\n",
       " '中']"
      ]
     },
     "execution_count": 40,
     "metadata": {},
     "output_type": "execute_result"
    }
   ],
   "source": [
    "list(islice(asbc.iter_characters(), 0, 20))"
   ]
  },
  {
   "cell_type": "code",
   "execution_count": 44,
   "metadata": {},
   "outputs": [
    {
     "data": {
      "text/plain": [
       "['時間',\n",
       " '三月',\n",
       " '十日',\n",
       " '星期四',\n",
       " '上午',\n",
       " '十時',\n",
       " '地點',\n",
       " '學術',\n",
       " '活動',\n",
       " '中心',\n",
       " '一樓',\n",
       " '簡報室',\n",
       " '主講',\n",
       " '民族所',\n",
       " '所長',\n",
       " '莊英章',\n",
       " '先生',\n",
       " '講題',\n",
       " '閩',\n",
       " '台']"
      ]
     },
     "execution_count": 44,
     "metadata": {},
     "output_type": "execute_result"
    }
   ],
   "source": [
    "list(islice(asbc.iter_words(), 0, 20))"
   ]
  },
  {
   "cell_type": "code",
   "execution_count": 18,
   "metadata": {},
   "outputs": [
    {
     "data": {
      "text/plain": [
       "[('時間', 'Na'),\n",
       " ('：', 'COLONCATEGORY'),\n",
       " ('三月', 'Nd'),\n",
       " ('十日', 'Nd'),\n",
       " ('（', 'PARENTHESISCATEGORY'),\n",
       " ('星期四', 'Nd'),\n",
       " ('）', 'PARENTHESISCATEGORY'),\n",
       " ('上午', 'Nd'),\n",
       " ('十時', 'Nd'),\n",
       " ('。', 'PERIODCATEGORY')]"
      ]
     },
     "execution_count": 18,
     "metadata": {},
     "output_type": "execute_result"
    }
   ],
   "source": [
    "list(islice(asbc.iter_words_with_pos(), 0, 10))"
   ]
  },
  {
   "cell_type": "code",
   "execution_count": 19,
   "metadata": {},
   "outputs": [
    {
     "data": {
      "text/plain": [
       "['時', '間', '：', '三', '月', '十', '日', '（', '星', '期']"
      ]
     },
     "execution_count": 19,
     "metadata": {},
     "output_type": "execute_result"
    }
   ],
   "source": [
    "list(islice(asbc.iter_characters(), 0, 10))"
   ]
  },
  {
   "cell_type": "code",
   "execution_count": 45,
   "metadata": {},
   "outputs": [],
   "source": [
    "import pickle"
   ]
  },
  {
   "cell_type": "code",
   "execution_count": 48,
   "metadata": {},
   "outputs": [],
   "source": [
    "with open(\"../bin/asbc5_words_pos.pkl\", \"rb\") as fin:\n",
    "    data = pickle.load(fin)"
   ]
  },
  {
   "cell_type": "code",
   "execution_count": 50,
   "metadata": {},
   "outputs": [
    {
     "data": {
      "text/plain": [
       "112"
      ]
     },
     "execution_count": 50,
     "metadata": {},
     "output_type": "execute_result"
    }
   ],
   "source": [
    "data[(\"的\", \"T\")]"
   ]
  },
  {
   "cell_type": "code",
   "execution_count": null,
   "metadata": {},
   "outputs": [],
   "source": []
  }
 ],
 "metadata": {
  "kernelspec": {
   "display_name": "Python 3",
   "language": "python",
   "name": "python3"
  },
  "language_info": {
   "codemirror_mode": {
    "name": "ipython",
    "version": 3
   },
   "file_extension": ".py",
   "mimetype": "text/x-python",
   "name": "python",
   "nbconvert_exporter": "python",
   "pygments_lexer": "ipython3",
   "version": "3.8.2"
  }
 },
 "nbformat": 4,
 "nbformat_minor": 4
}
